{
  "nbformat": 4,
  "nbformat_minor": 0,
  "metadata": {
    "colab": {
      "name": "SummerOlympics.ipynb",
      "provenance": [],
      "collapsed_sections": []
    },
    "kernelspec": {
      "name": "python3",
      "display_name": "Python 3"
    },
    "language_info": {
      "name": "python"
    }
  },
  "cells": [
    {
      "cell_type": "markdown",
      "metadata": {
        "id": "kx-e4fZH_PUu"
      },
      "source": [
        "## **1. No of cities hosted Olympics.**"
      ]
    },
    {
      "cell_type": "code",
      "metadata": {
        "colab": {
          "base_uri": "https://localhost:8080/"
        },
        "id": "y1s6wDHR_Fi-",
        "outputId": "0c95d734-e577-45b7-dc09-a157fb1c3936"
      },
      "source": [
        "import numpy as np\n",
        "import matplotlib.pyplot as plt\n",
        "import pandas as pd\n",
        "df=pd.read_csv(\"summer.csv\")\n",
        "\n",
        "A=len(df['City'].unique())\n",
        "print(\"no of cities :\",A)"
      ],
      "execution_count": 2,
      "outputs": [
        {
          "output_type": "stream",
          "name": "stdout",
          "text": [
            "no of cities : 22\n"
          ]
        }
      ]
    },
    {
      "cell_type": "markdown",
      "metadata": {
        "id": "zWax0iUYAKQ5"
      },
      "source": [
        "## **2. Top Five sports in terms of Gold Medals.**"
      ]
    },
    {
      "cell_type": "code",
      "metadata": {
        "colab": {
          "base_uri": "https://localhost:8080/",
          "height": 399
        },
        "id": "PyDKerm8-4T2",
        "outputId": "f79fd281-5bf6-4d62-a5cd-661ddcb18ff7"
      },
      "source": [
        "gold1=df[df['Medal']  == 'Gold']\n",
        "\n",
        "data = []\n",
        "\n",
        "for Sport in gold1['Sport'].unique():\n",
        "    data.append([Sport , len(gold1[gold1['Sport']  == Sport])])\n",
        "\n",
        "pd.DataFrame(data,columns = ['Sport','Medal']).sort_values(by='Medal', ascending=False).head().plot(x = 'Sport', y = 'Medal', kind = 'bar', figsize = (5,5))"
      ],
      "execution_count": 3,
      "outputs": [
        {
          "output_type": "execute_result",
          "data": {
            "text/plain": [
              "<matplotlib.axes._subplots.AxesSubplot at 0x7fd4f24f56d0>"
            ]
          },
          "metadata": {},
          "execution_count": 3
        },
        {
          "output_type": "display_data",
          "data": {
            "text/plain": [
              "<Figure size 360x360 with 1 Axes>"
            ],
            "image/png": "[encoded data removed]"
          },
          "metadata": {
            "needs_background": "light"
          }
        }
      ]
    },
    {
      "cell_type": "markdown",
      "metadata": {
        "id": "Zj-wGjXeTmd6"
      },
      "source": [
        "## **3.Top five sports in terms of medals.**"
      ]
    },
    {
      "cell_type": "code",
      "metadata": {
        "colab": {
          "base_uri": "https://localhost:8080/",
          "height": 399
        },
        "id": "T1J_xk1uAau8",
        "outputId": "9c659cc2-64a5-4eea-cfdb-a688463cc4f6"
      },
      "source": [
        "data1 = []\n",
        "\n",
        "for Sport in df['Sport'].unique():\n",
        "    data1.append([Sport , len(df[df['Sport']  == Sport])])\n",
        "\n",
        "pd.DataFrame(data1,columns = ['Sport','Medal']).sort_values(by='Medal', ascending=False).head().plot(x = 'Sport', y = 'Medal', kind = 'bar', figsize = (5,5))\n",
        "\n",
        "\n",
        "\n",
        "\n",
        "\n"
      ],
      "execution_count": 4,
      "outputs": [
        {
          "output_type": "execute_result",
          "data": {
            "text/plain": [
              "<matplotlib.axes._subplots.AxesSubplot at 0x7fd4f23fe510>"
            ]
          },
          "metadata": {},
          "execution_count": 4
        },
        {
          "output_type": "display_data",
          "data": {
            "text/plain": [
              "<Figure size 360x360 with 1 Axes>"
            ],
            "image/png": "[encoded data removed]"
          },
          "metadata": {
            "needs_background": "light"
          }
        }
      ]
    },
    {
      "cell_type": "markdown",
      "metadata": {
        "id": "DoN_g1XdVhr2"
      },
      "source": [
        "## **4.Top five players in terms of medals.**"
      ]
    },
    {
      "cell_type": "code",
      "metadata": {
        "colab": {
          "base_uri": "https://localhost:8080/",
          "height": 458
        },
        "id": "YkYy3MnWUquR",
        "outputId": "a7d1fa5d-49c1-4ba1-a125-39c11236a6e6"
      },
      "source": [
        "data2 = []\n",
        "\n",
        "for Athlete in df['Athlete'].unique():\n",
        "    data2.append([Athlete , len(df[df['Athlete']  == Athlete])])\n",
        "\n",
        "pd.DataFrame(data2,columns = ['Athlete','Medal']).sort_values(by='Medal', ascending=False).head().plot(x = 'Athlete', y = 'Medal', kind = 'bar', figsize = (5,5))"
      ],
      "execution_count": 5,
      "outputs": [
        {
          "output_type": "execute_result",
          "data": {
            "text/plain": [
              "<matplotlib.axes._subplots.AxesSubplot at 0x7fd4f3798a10>"
            ]
          },
          "metadata": {},
          "execution_count": 5
        },
        {
          "output_type": "display_data",
          "data": {
            "text/plain": [
              "<Figure size 360x360 with 1 Axes>"
            ],
            "image/png": "[encoded data removed]"
          },
          "metadata": {
            "needs_background": "light"
          }
        }
      ]
    },
    {
      "cell_type": "markdown",
      "metadata": {
        "id": "xPrTIWsYL1TE"
      },
      "source": [
        "## **5.Top five players in terms of gold medals.**"
      ]
    },
    {
      "cell_type": "code",
      "metadata": {
        "colab": {
          "base_uri": "https://localhost:8080/",
          "height": 399
        },
        "id": "t84rCgPwL6iX",
        "outputId": "ef192e35-bbd1-4d48-8aa4-46a3f441edf4"
      },
      "source": [
        "data3 = []\n",
        "gold1=df[df['Medal']  == 'Gold']\n",
        "\n",
        "for Athlete in gold1['Athlete'].unique():\n",
        "    data3.append([Athlete , len(gold1[gold1['Athlete']  == Athlete])])\n",
        "\n",
        "pd.DataFrame(data3,columns = ['Athlete','Gold_Medal']).sort_values(by='Gold_Medal', ascending=False).head().plot(x = 'Athlete', y = 'Gold_Medal', kind = 'bar', figsize = (5,5))\n"
      ],
      "execution_count": null,
      "outputs": [
        {
          "output_type": "execute_result",
          "data": {
            "text/plain": [
              "<matplotlib.axes._subplots.AxesSubplot at 0x7fa5d8ecc410>"
            ]
          },
          "metadata": {},
          "execution_count": 13
        },
        {
          "output_type": "display_data",
          "data": {
            "image/png": "[encoded data removed]",
            "text/plain": [
              "<Figure size 360x360 with 1 Axes>"
            ]
          },
          "metadata": {
            "needs_background": "light"
          }
        }
      ]
    },
    {
      "cell_type": "markdown",
      "metadata": {
        "id": "QXJJt3KBPYHr"
      },
      "source": [
        "## **6.Year in which India got first gold medal.**"
      ]
    },
    {
      "cell_type": "code",
      "metadata": {
        "colab": {
          "base_uri": "https://localhost:8080/"
        },
        "id": "pBU6Zp57M8wY",
        "outputId": "20dccd5b-e32f-4e62-8734-e9227d0bc769"
      },
      "source": [
        "data4 = []\n",
        "gold1=df[df['Medal']  == 'Gold']\n",
        "goldind=gold1[gold1['Country']  == 'IND']\n",
        "year1=goldind['Year'].unique()\n",
        "print('year :',year1.min(),' India won first Gold Medal in Summer Olympics')"
      ],
      "execution_count": null,
      "outputs": [
        {
          "output_type": "stream",
          "name": "stdout",
          "text": [
            "year : 1928  India won first Gold Medal in Summer Olympics\n"
          ]
        }
      ]
    },
    {
      "cell_type": "markdown",
      "metadata": {
        "id": "BG9_VEGBPbwD"
      },
      "source": [
        "## **7.Most popular sports in terms of number of players.**"
      ]
    },
    {
      "cell_type": "code",
      "metadata": {
        "id": "qRaF8Sc5MERI",
        "colab": {
          "base_uri": "https://localhost:8080/",
          "height": 431
        },
        "outputId": "9d73ad39-5bec-4816-d66d-55c3fa3b2444"
      },
      "source": [
        "data5 = []\n",
        "for Event in df['Event'].unique():\n",
        "    data5.append([Event , len(df[df['Event']  == Event])])\n",
        "\n",
        "pd.DataFrame(data5,columns = ['Event','popular']).sort_values(by='popular', ascending=False).head().plot(x = 'Event', y = 'popular', kind = 'bar', figsize = (5,5))"
      ],
      "execution_count": null,
      "outputs": [
        {
          "output_type": "execute_result",
          "data": {
            "text/plain": [
              "<matplotlib.axes._subplots.AxesSubplot at 0x7fa5d8ed3d10>"
            ]
          },
          "metadata": {},
          "execution_count": 16
        },
        {
          "output_type": "display_data",
          "data": {
            "image/png": "[encoded data removed]",
            "text/plain": [
              "<Figure size 360x360 with 1 Axes>"
            ]
          },
          "metadata": {
            "needs_background": "light"
          }
        }
      ]
    },
    {
      "cell_type": "markdown",
      "metadata": {
        "id": "CO8iEGfuPiit"
      },
      "source": [
        "## **8. Top 5 sports in terms of female gold medalist.**"
      ]
    },
    {
      "cell_type": "code",
      "metadata": {
        "id": "Dk4hZNF8PtNz",
        "colab": {
          "base_uri": "https://localhost:8080/",
          "height": 399
        },
        "outputId": "a5453769-02bc-4fd4-9a98-1ab77340b982"
      },
      "source": [
        "data6 = []\n",
        "fem=df[df['Gender']  == 'Women']\n",
        "gold1=fem[fem['Medal']  == 'Gold']\n",
        "\n",
        "for Sport in gold1['Sport'].unique():\n",
        "    data6.append([Sport , len(gold1[gold1['Sport']  == Sport])])\n",
        "\n",
        "pd.DataFrame(data6,columns = ['Sport','Medal']).sort_values(by='Medal', ascending=False).head().plot(x = 'Sport', y = 'Medal', kind = 'bar', figsize = (5,5))"
      ],
      "execution_count": null,
      "outputs": [
        {
          "output_type": "execute_result",
          "data": {
            "text/plain": [
              "<matplotlib.axes._subplots.AxesSubplot at 0x7fa5d866f510>"
            ]
          },
          "metadata": {},
          "execution_count": 17
        },
        {
          "output_type": "display_data",
          "data": {
            "image/png": "[encoded data removed]",
            "text/plain": [
              "<Figure size 360x360 with 1 Axes>"
            ]
          },
          "metadata": {
            "needs_background": "light"
          }
        }
      ]
    }
  ]
}